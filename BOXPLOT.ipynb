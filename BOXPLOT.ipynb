{
 "cells": [
  {
   "cell_type": "code",
   "execution_count": 1,
   "metadata": {},
   "outputs": [],
   "source": [
    "# BoxPlots also known as box and whisker plots are a measure of how well distributed the data in a data set is\n",
    "# The box represents 50% of the information\n",
    "# The whiskers on either side of the box represents the top 25% and Bottom 25%"
   ]
  },
  {
   "cell_type": "code",
   "execution_count": 4,
   "metadata": {},
   "outputs": [
    {
     "data": {
      "text/plain": [
       "<matplotlib.axes._subplots.AxesSubplot at 0x1bcd0277e20>"
      ]
     },
     "execution_count": 4,
     "metadata": {},
     "output_type": "execute_result"
    },
    {
     "data": {
      "image/png": "[encoded data removed]",
      "text/plain": [
       "<Figure size 432x288 with 1 Axes>"
      ]
     },
     "metadata": {
      "needs_background": "light"
     },
     "output_type": "display_data"
    }
   ],
   "source": [
    "# Drawing A Boxplots\n",
    "import pandas as pd\n",
    "import numpy as np\n",
    "df = pd.DataFrame(np.random.rand(10,5), columns = ['A', 'B', 'C', 'D', 'E'])\n",
    "df.plot.box(grid = 'True')"
   ]
  },
  {
   "cell_type": "code",
   "execution_count": null,
   "metadata": {},
   "outputs": [],
   "source": [
    "# Reading a Boxplot\n",
    "# The information or values are divided into four equally Sized Groups\n",
    "# 25% of all values are placed in each group\n",
    "# Quartiles are the lines dividing each group "
   ]
  },
  {
   "cell_type": "code",
   "execution_count": null,
   "metadata": {},
   "outputs": [],
   "source": [
    "# Upper Quartile is where 75% of the values fall into\n",
    "# Lower Quartile is where 25% of the values fall into\n",
    "# Medium marks the mid-point of the data\n",
    "# Inter-Quartile Range is the range of values from lower to upper Quartile,50% of the Data\n",
    "# Whiskers represents the top 25% of the data and the bottom 25% of the data"
   ]
  }
 ],
 "metadata": {
  "kernelspec": {
   "display_name": "Python 3",
   "language": "python",
   "name": "python3"
  },
  "language_info": {
   "codemirror_mode": {
    "name": "ipython",
    "version": 3
   },
   "file_extension": ".py",
   "mimetype": "text/x-python",
   "name": "python",
   "nbconvert_exporter": "python",
   "pygments_lexer": "ipython3",
   "version": "3.8.3"
  }
 },
 "nbformat": 4,
 "nbformat_minor": 4
}
